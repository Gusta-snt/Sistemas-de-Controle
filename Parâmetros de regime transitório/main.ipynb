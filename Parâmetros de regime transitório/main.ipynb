{
  "nbformat": 4,
  "nbformat_minor": 0,
  "metadata": {
    "colab": {
      "provenance": []
    },
    "kernelspec": {
      "name": "python3",
      "display_name": "Python 3"
    },
    "language_info": {
      "name": "python"
    }
  },
  "cells": [
    {
      "cell_type": "markdown",
      "source": [
        "# Parâmetros em regime transitório\n",
        "\n",
        "É muito comum caracterizarmos os sistemas de controle de acordo com os seus parâmetros em regime transitório. Basicamente, inserimos uma entrada degrau ao sistema e tentamos madir alguns valores na saída que o sistema retornar, sendo elas:\n",
        "\n",
        "- Tempo de subida (Tr): Tempo que a saída demora para sair de 10% e chegar em 90% do valor em regime estacionário.\n",
        "\n",
        "- Tempo de atraso (Td): Tempo que a saída demora para atingir 50% do valor em regime estacionário.\n",
        "\n",
        "- Tempo de pico (Tp): Tempo que a saída demora para atingir o valor de pico.\n",
        "\n",
        "- Tempo de acomodação (Ts): Tempo que a saída demora pra \"estabilizar\" em seu valor estacionário. Essa estabilização depende do quanto de tolerância queremos permitir, sendo 5% e 2% do valor estacionário os valores mais comuns de tolerância.\n",
        "\n",
        "- Máximo sobressinal (MSS): Dado em porcentagem, o Maximo Sobressinal é o quanto a saída ultrapassa seu valor estacionário no pico. Pode ser calculado por:\n",
        "\n",
        "$$MSS\\% = \\left[ \\frac{(\\text{Valor de pico} - \\text{Valor em regime})}{\\text{Valor em regime}} \\right]×100\\%$$\n",
        "\n",
        "Esses parâmetros são considerados em sistemas de ordem 2. Para os de ordem 1, somente são considerados o tempo de subida, o tempo de acomodação e a constante de tempo:\n",
        "\n",
        "Constante de tempo ($τ$): Tempo que a saída demora para atingir 63% do valor de regime.\n",
        "\n",
        "Veremos como calcular esses parâmetros na prática. Considere um sistema realimentado com a seguinte função de transferência de malha fechada:\n",
        "$$FTMA = \\frac{100}{(s^2 + 6s + 25)}$$\n",
        "\n",
        "Como é um sistema de segunda ordem, temos que calular aqueles 5 parâmetros no python:"
      ],
      "metadata": {
        "id": "5nzcVr_iYCvH"
      }
    },
    {
      "cell_type": "code",
      "execution_count": null,
      "metadata": {
        "collapsed": true,
        "id": "TnnnqKJuX9WJ"
      },
      "outputs": [],
      "source": [
        "!pip install control matplotlib numpy"
      ]
    },
    {
      "cell_type": "markdown",
      "source": [
        "Vamos primeiro importar algumas bibliotecas importantes:"
      ],
      "metadata": {
        "id": "NW8oAaJ7lOv1"
      }
    },
    {
      "cell_type": "code",
      "source": [
        "import control as ctrl\n",
        "import matplotlib.pyplot as plt\n",
        "import numpy as np"
      ],
      "metadata": {
        "id": "K8p3gVjwYq0J"
      },
      "execution_count": 18,
      "outputs": []
    },
    {
      "cell_type": "markdown",
      "source": [
        "Declaramos a função de transferência de malha aberta:"
      ],
      "metadata": {
        "id": "_0VKFWt5lUb-"
      }
    },
    {
      "cell_type": "code",
      "source": [
        "FTMF = ctrl.tf([100], [1, 6, 25])\n",
        "print(FTMF)"
      ],
      "metadata": {
        "colab": {
          "base_uri": "https://localhost:8080/"
        },
        "id": "eLlYrmTIZYwZ",
        "outputId": "0c5a67b3-8727-4ad5-a2fd-9a574f01e0e5"
      },
      "execution_count": 4,
      "outputs": [
        {
          "output_type": "stream",
          "name": "stdout",
          "text": [
            "<TransferFunction>: sys[0]\n",
            "Inputs (1): ['u[0]']\n",
            "Outputs (1): ['y[0]']\n",
            "\n",
            "\n",
            "     100\n",
            "--------------\n",
            "s^2 + 6 s + 25\n",
            "\n"
          ]
        }
      ]
    },
    {
      "cell_type": "markdown",
      "source": [
        "Agora, precisamos calcular a resposta que o sistema nos dá, dada uma entrada degrau. A biblioteca control já tem uma função que calcula isso automaticamente. Passamos como parâmetro a nossa função de transferência de malha fechada e o método step_response nos retorna dois arrays:\n",
        "\n",
        "t = Intervalo de tempo com valores definidos\n",
        "\n",
        "y = Valor de saída para aquele valor de tempo do array anterior"
      ],
      "metadata": {
        "id": "Z8rLSkSBlb9f"
      }
    },
    {
      "cell_type": "code",
      "source": [
        "t, y = ctrl.step_response(FTMF)\n",
        "print(y)"
      ],
      "metadata": {
        "colab": {
          "base_uri": "https://localhost:8080/"
        },
        "id": "xn7NvL_2Zszx",
        "outputId": "78b0a305-615f-413b-e629-4f13e78532d1"
      },
      "execution_count": 7,
      "outputs": [
        {
          "output_type": "stream",
          "name": "stdout",
          "text": [
            "[0.         0.02580344 0.09835432 0.21064901 0.35609496 0.52854034\n",
            " 0.7222942  0.93213814 1.15333062 1.38160459 1.61315949 1.84464845\n",
            " 2.07316133 2.29620459 2.51167843 2.71785198 2.9133371  3.09706119\n",
            " 3.26823968 3.42634834 3.57109604 3.70239802 3.82035007 3.92520386\n",
            " 4.01734339 4.09726299 4.16554665 4.222849   4.2698779  4.3073785\n",
            " 4.33611904 4.35687817 4.37043373 4.37755308 4.37898477 4.37545158\n",
            " 4.36764474 4.35621932 4.34179072 4.324932   4.30617227 4.28599566\n",
            " 4.26484112 4.24310275 4.22113068 4.19923238 4.17767436 4.15668409\n",
            " 4.13645228 4.11713524 4.09885737 4.08171378 4.06577287 4.05107899\n",
            " 4.03765498 4.02550468 4.01461541 4.00496019 3.99650003 3.98918595\n",
            " 3.98296088 3.97776147 3.97351969 3.97016427 3.96762208 3.96581925\n",
            " 3.9646822  3.96413856 3.96411789 3.96455232 3.96537711 3.96653101\n",
            " 3.9679566  3.96960053 3.97141362 3.97335099 3.97537201 3.97744031\n",
            " 3.97952366 3.98159382 3.98362642 3.98560071 3.9874994  3.9893084\n",
            " 3.99101658 3.99261553 3.99409933 3.99546426 3.99670859 3.99783234\n",
            " 3.99883706 3.99972558 4.00050182 4.00117063 4.00173757 4.00220875\n",
            " 4.00259072 4.00289027 4.00311436 4.00326999]\n"
          ]
        }
      ]
    },
    {
      "cell_type": "markdown",
      "source": [
        "Essa função nos retorna as respostas dessa forma para podermos plotar esse gràfico usando a biblioteca matplotlib."
      ],
      "metadata": {
        "id": "DbX4Lr9UmENG"
      }
    },
    {
      "cell_type": "code",
      "source": [
        "plt.plot(t, y)\n",
        "plt.title(\"Resposta ao degrau\")\n",
        "plt.xlabel(\"Tempo (s)\")\n",
        "plt.ylabel(\"Saída\")\n",
        "plt.grid(True)\n",
        "plt.show()"
      ],
      "metadata": {
        "colab": {
          "base_uri": "https://localhost:8080/",
          "height": 472
        },
        "id": "DyR7tel2aDNd",
        "outputId": "bb2aea7b-0b50-4ee2-f63e-4de3034c9269"
      },
      "execution_count": 12,
      "outputs": [
        {
          "output_type": "display_data",
          "data": {
            "text/plain": [
              "<Figure size 640x480 with 1 Axes>"
            ],
            "image/png": "[encoded data removed]"
          },
          "metadata": {}
        }
      ]
    },
    {
      "cell_type": "markdown",
      "source": [
        "Agora, vendo como é a cara da resposta ao degrau, podemos calcular os parâmetros. A biblioteca control tem outra função que calcula vários desses parâmetros que vamos utilizar. Passando a função de transferência de malha fechada para a função step_info, a mesma nos retornará um dicionário do python (uma estrutura de dados que tem chave e valor) da seguinte forma:"
      ],
      "metadata": {
        "id": "jrwfcdBmmQC_"
      }
    },
    {
      "cell_type": "code",
      "source": [
        "info = ctrl.step_info(FTMF)\n",
        "\n",
        "for key, value in info.items():\n",
        "  print(f\"{key}: {value}\")"
      ],
      "metadata": {
        "colab": {
          "base_uri": "https://localhost:8080/"
        },
        "id": "MnrvztpCaboy",
        "outputId": "776fb370-2318-46ad-ed7e-46dd40e1ea2c"
      },
      "execution_count": 16,
      "outputs": [
        {
          "output_type": "stream",
          "name": "stdout",
          "text": [
            "RiseTime: 0.3721349645242902\n",
            "SettlingTime: 1.2094386347039432\n",
            "SettlingMin: 3.7023980182833394\n",
            "SettlingMax: 4.3789847701545765\n",
            "Overshoot: 9.474619253864415\n",
            "Undershoot: 0\n",
            "Peak: 4.3789847701545765\n",
            "PeakTime: 0.7907867996141167\n",
            "SteadyStateValue: 4.0\n"
          ]
        }
      ]
    },
    {
      "cell_type": "markdown",
      "source": [
        "Podemos ver que vários dos parâmetros já foram calculados automaticamente, como o tempo de acomodação (SettlingTime). O problema é que ainda teremos que calcular o tempo de atraso da seguinte forma:\n",
        "\n",
        "Pegamos o valor de saída estacionário e encontramos qual é o valor de 50% do estacionário"
      ],
      "metadata": {
        "id": "qrg-q78Dmu7F"
      }
    },
    {
      "cell_type": "code",
      "source": [
        "# Tempo de atraso: tempo que a saída demora para chegar em 50% do valor estacionário\n",
        "\n",
        "valor_estacionario = info[\"SteadyStateValue\"]\n",
        "metade_estacionario = 0.5 * valor_estacionario\n",
        "print(metade_estacionario)"
      ],
      "metadata": {
        "colab": {
          "base_uri": "https://localhost:8080/"
        },
        "id": "Mwx9Oy3RbD0p",
        "outputId": "234bb95b-b7ca-4bf4-9428-6bd5730616d2"
      },
      "execution_count": 17,
      "outputs": [
        {
          "output_type": "stream",
          "name": "stdout",
          "text": [
            "2.0\n"
          ]
        }
      ]
    },
    {
      "cell_type": "markdown",
      "source": [
        "Tendo esse valor, podemos ver na nossa saída qual é o valor de tempo correspondente a esse valor de saída. O problema é que estamos utilizando intervalos discretos e não contínuos, visto que estamos utilizando arrays para representar a curva da função. Por isso, podemos antes fazer uma interpolação de valores, de forma que vamos encontrar o tempo exato correspondente a aquele valor de saída. Para isso, podemos usar a função interp da biblioteca numpy. A biblioteca recebe 3 parâmetros: o valor procurado, o array que representa a grandeza que temos o valor e o array que representa a grandeza que queremos encontrar o valor correspondente. Como tempos o valor de saída e queremos encontrar o tempo, faremos da seguinte forma:"
      ],
      "metadata": {
        "id": "1nFmptG1nKPg"
      }
    },
    {
      "cell_type": "code",
      "source": [
        "tempo_atraso = np.interp(metade_estacionario, y, t)\n",
        "\n",
        "print(tempo_atraso)"
      ],
      "metadata": {
        "colab": {
          "base_uri": "https://localhost:8080/"
        },
        "id": "2Ht3l6G0bzTJ",
        "outputId": "b8290be2-1976-4f13-fa95-a275de580344"
      },
      "execution_count": 20,
      "outputs": [
        {
          "output_type": "stream",
          "name": "stdout",
          "text": [
            "0.27165473695207115\n"
          ]
        }
      ]
    },
    {
      "cell_type": "markdown",
      "source": [
        "Assim teremos o tempo de atraso. Já para o tempo de subida, a função step_info nos retorna um \"RiseTime\", porém não é só daquela forma que podemos representar esse tempo de subida no gráfico, podemos também desenhar um intervalo de tempo que será definido dessa forma:"
      ],
      "metadata": {
        "id": "Y4P4qEbQoRyz"
      }
    },
    {
      "cell_type": "code",
      "source": [
        "# Tempo de subida: tempo que a saída demora para sair de 10% até 90% do valor estacionário\n",
        "\n",
        "tempo_subida = [np.interp(0.1 * valor_estacionario, y, t), np.interp(0.9 * valor_estacionario, y, t)]\n",
        "\n",
        "print(f\"O tempo de subida vai de {tempo_subida[0]}s até {tempo_subida[1]}s.\")"
      ],
      "metadata": {
        "colab": {
          "base_uri": "https://localhost:8080/"
        },
        "id": "jVo2hI1VdJmN",
        "outputId": "3638ba3f-be85-41b5-dc66-eaea111bb6df"
      },
      "execution_count": 28,
      "outputs": [
        {
          "output_type": "stream",
          "name": "stdout",
          "text": [
            "O tempo de subida vai de 0.09895539908497167s até 0.4702886650270442s.\n"
          ]
        }
      ]
    },
    {
      "cell_type": "markdown",
      "source": [
        "Tendo todos esses valores, podemos plotar o gráfico com todos os parâmetros que encontramos. Estamos novamente fazendo uma interpolação para o tempo de acomodação, pois a função step_info só nos dá o valor de t e não o de y."
      ],
      "metadata": {
        "id": "EmGpl4Bhotct"
      }
    },
    {
      "cell_type": "code",
      "source": [
        "plt.plot(t, y, label=\"Resposta ao degrau\")\n",
        "plt.plot(tempo_atraso, metade_estacionario, \"ko\", markersize=8, label=\"Tempo de atraso\") # Desenha um ponto\n",
        "plt.axvspan(tempo_subida[0], tempo_subida[1], color=\"red\", alpha=0.3, label=\"Tempo de subida\") # Desenha um intervalo\n",
        "plt.plot(info[\"PeakTime\"], info[\"Peak\"], \"co\", markersize=8, label=\"Tempo de pico\") # Desenha um ponto\n",
        "plt.plot(info[\"SettlingTime\"], np.interp(info[\"SettlingTime\"], t, y), \"go\", markersize=8, label=\"Tempo de acomodação\") # Desenha um ponto\n",
        "plt.legend()\n",
        "plt.grid()\n",
        "plt.title(\"Resposta ao degrau\")\n",
        "plt.xlabel(\"Tempo (s)\")\n",
        "plt.ylabel(\"Saída\")\n",
        "plt.show()"
      ],
      "metadata": {
        "colab": {
          "base_uri": "https://localhost:8080/",
          "height": 472
        },
        "id": "2u3UjgsPcfU1",
        "outputId": "e3e10a37-b0d6-4b4c-ae19-13d355dd114c"
      },
      "execution_count": 44,
      "outputs": [
        {
          "output_type": "display_data",
          "data": {
            "text/plain": [
              "<Figure size 640x480 with 1 Axes>"
            ],
            "image/png": "[encoded data removed]"
          },
          "metadata": {}
        }
      ]
    },
    {
      "cell_type": "markdown",
      "source": [
        "Por fim, para o máximo sobressinal, devemos calcular separado pois o mesmo não representa um ponto no gráfico e sim um intervalo vertical (intervalo de saídas)."
      ],
      "metadata": {
        "id": "DsBqobqnp0bT"
      }
    },
    {
      "cell_type": "code",
      "source": [
        "MSS = (info[\"Peak\"] - info[\"SteadyStateValue\"]) / info[\"SteadyStateValue\"]\n",
        "\n",
        "print(f'MÁXIMO SOBRESSINAL = {(MSS * 100):.2f}%')"
      ],
      "metadata": {
        "colab": {
          "base_uri": "https://localhost:8080/"
        },
        "id": "T1I2NVwqqKAP",
        "outputId": "8ed3a894-cb7b-4e71-8d61-90190c837fe4"
      },
      "execution_count": 45,
      "outputs": [
        {
          "output_type": "stream",
          "name": "stdout",
          "text": [
            "MÁXIMO SOBRESSINAL = 9.47%\n"
          ]
        }
      ]
    },
    {
      "cell_type": "markdown",
      "source": [
        "Dessa maneira, podemos caracterizar diversos tipos de sistemas de controle usando seus parâmetros de resposta transitória.\n",
        "\n",
        "## Exercício\n",
        "\n",
        "Dado o sistema realimentado $\\frac{Y(s)}{R(s)} = \\frac{16}{s^2 + 2.4s + 16}$, onde $Y(s)$ é a saída e $R(s)$ é a entrada calcule seus parâmetros de regime transitório usando o python."
      ],
      "metadata": {
        "id": "AbkNex-6qLQv"
      }
    }
  ]
}