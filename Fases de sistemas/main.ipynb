{
 "cells": [
  {
   "cell_type": "markdown",
   "metadata": {},
   "source": [
    "# Sistemas de fase mínima\n",
    "\n",
    "São aqueles em que todos os polos e zeros estão no semi-plano esquerdo do plano S.\n",
    "\n",
    "Podemos encontrar sistemas de fase mínima usando python. \n",
    "\n",
    "Considere o seguinte sistema: <br><br>![image](https://arquivos.respondeai.com.br/seo-mirror/exercise/2023/7438c60d-d621-4c63-8d31-1b3356aeb73f.webp)\n",
    "\n",
    "Vamos determinar se este é um sistema de fase mínima considerando a seguinte função de transferência da planta $G(s) = \\frac{1+0.5s}{s(s+1)}$:\n",
    "\n",
    "Primeiro, vamos instalar a biblioteca control que vai nos ajudar a realizar a análise sem que seja necessário uma análise matemática mais profunda."
   ]
  },
  {
   "cell_type": "code",
   "execution_count": null,
   "metadata": {},
   "outputs": [],
   "source": [
    "!pip install control"
   ]
  },
  {
   "cell_type": "markdown",
   "metadata": {},
   "source": [
    "## Definindo a função de tranferência da planta"
   ]
  },
  {
   "cell_type": "code",
   "execution_count": 6,
   "metadata": {},
   "outputs": [
    {
     "name": "stdout",
     "output_type": "stream",
     "text": [
      "<TransferFunction>: sys[3]\n",
      "Inputs (1): ['u[0]']\n",
      "Outputs (1): ['y[0]']\n",
      "\n",
      "\n",
      "0.5 s + 1\n",
      "---------\n",
      " s^2 + s\n",
      "\n"
     ]
    }
   ],
   "source": [
    "import control as ctrl\n",
    "\n",
    "G = ctrl.tf([0.5, 1], [1, 1, 0])\n",
    "\n",
    "print(G)"
   ]
  },
  {
   "cell_type": "markdown",
   "metadata": {},
   "source": [
    "## Definindo a função de tranferência da realimentação (unitária)"
   ]
  },
  {
   "cell_type": "code",
   "execution_count": 7,
   "metadata": {},
   "outputs": [
    {
     "name": "stdout",
     "output_type": "stream",
     "text": [
      "<TransferFunction>: sys[4]\n",
      "Inputs (1): ['u[0]']\n",
      "Outputs (1): ['y[0]']\n",
      "\n",
      "\n",
      "1\n",
      "-\n",
      "1\n",
      "\n"
     ]
    }
   ],
   "source": [
    "H = ctrl.tf([1], [1])\n",
    "\n",
    "print(H)"
   ]
  },
  {
   "cell_type": "markdown",
   "metadata": {},
   "source": [
    "## Calculando a função de tranferência de malha fechada"
   ]
  },
  {
   "cell_type": "code",
   "execution_count": 8,
   "metadata": {},
   "outputs": [
    {
     "name": "stdout",
     "output_type": "stream",
     "text": [
      "<TransferFunction>: sys[5]\n",
      "Inputs (1): ['u[0]']\n",
      "Outputs (1): ['y[0]']\n",
      "\n",
      "\n",
      "   0.5 s + 1\n",
      "---------------\n",
      "s^2 + 1.5 s + 1\n",
      "\n"
     ]
    }
   ],
   "source": [
    "FTMF = ctrl.feedback(G, H, -1)\n",
    "\n",
    "print(FTMF)"
   ]
  },
  {
   "cell_type": "markdown",
   "metadata": {},
   "source": [
    "## Encontrando os zeros e polos da função de tranferência de malha fechada"
   ]
  },
  {
   "cell_type": "code",
   "execution_count": 9,
   "metadata": {},
   "outputs": [
    {
     "name": "stdout",
     "output_type": "stream",
     "text": [
      "[-2.+0.j] [-0.75+0.66143783j -0.75-0.66143783j]\n"
     ]
    }
   ],
   "source": [
    "zeros_FTMF = ctrl.zeros(FTMF)\n",
    "polos_FTMF = ctrl.poles(FTMF)\n",
    "\n",
    "print(zeros_FTMF, polos_FTMF)"
   ]
  },
  {
   "cell_type": "markdown",
   "metadata": {},
   "source": [
    "Podemos ainda verificar se esses polos e zeros estão no semi-plano esquerdo do plano S:"
   ]
  },
  {
   "cell_type": "code",
   "execution_count": 11,
   "metadata": {},
   "outputs": [
    {
     "name": "stdout",
     "output_type": "stream",
     "text": [
      "O sistema é de fase mínima\n"
     ]
    }
   ],
   "source": [
    "fase_minima = True\n",
    "for zero in zeros_FTMF:\n",
    "    if zero.real > 0:\n",
    "        fase_minima = False\n",
    "        break\n",
    "for polo in polos_FTMF:\n",
    "    if polo.real > 0:\n",
    "        fase_minima = False\n",
    "        break\n",
    "\n",
    "if fase_minima:\n",
    "    print(\"O sistema é de fase mínima\")\n",
    "else:\n",
    "    print(\"O sistema não é de fase mínima\")"
   ]
  },
  {
   "cell_type": "markdown",
   "metadata": {},
   "source": [
    "Vemos que esse sistema é de fase mínima, pois todos os zeros e polos estão localizados no semi-plano esquerdo do plano S.\n",
    "\n",
    "# Sistemas de fase não mínima\n",
    "\n",
    "Nesse caso, teremos um ou mais zeros ou polos localizados no semi-plano direito do plano S. Ter um zero no semi-plano direito afeta o estado de \"estabilização\" do sistema ao se inserir uma entrada (chamado de estado transitório). Além disso, ter um polo no semi-plano direito afeta a estabilidade do sistema, o que pode ser um grande problema.\n",
    "\n",
    "**Exercício:** Execute o código python para o mesmo sistema, porém com a função de transferência da planta $G(s) = \\frac{1-0.5s}{s(s+1)}$. Verifique se este sistema é de fase mínima ou não."
   ]
  }
 ],
 "metadata": {
  "kernelspec": {
   "display_name": "Python 3",
   "language": "python",
   "name": "python3"
  },
  "language_info": {
   "codemirror_mode": {
    "name": "ipython",
    "version": 3
   },
   "file_extension": ".py",
   "mimetype": "text/x-python",
   "name": "python",
   "nbconvert_exporter": "python",
   "pygments_lexer": "ipython3",
   "version": "3.13.2"
  }
 },
 "nbformat": 4,
 "nbformat_minor": 2
}
