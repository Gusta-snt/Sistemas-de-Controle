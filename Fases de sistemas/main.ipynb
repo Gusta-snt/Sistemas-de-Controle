{
 "cells": [
  {
   "cell_type": "markdown",
   "metadata": {},
   "source": [
    "# Sistemas de fase mínima\n",
    "\n",
    "São aqueles em que todos os polos e zeros estão no semi-plano esquerdo do plano S.\n",
    "\n",
    "Podemos encontrar sistemas de fase mínima usando python. \n",
    "\n",
    "Considere o seguinte sistema: <br><br>![image](https://arquivos.respondeai.com.br/seo-mirror/exercise/2023/7438c60d-d621-4c63-8d31-1b3356aeb73f.webp)\n",
    "\n",
    "Vamos determinar se este é um sistema de fase mínima considerando a seguinte função de transferência da planta $G(s) = \\frac{1+0.5s}{s(s+1)}$:\n",
    "\n",
    "Primeiro, vamos instalar a biblioteca control que vai nos ajudar a realizar a análise sem que seja necessário uma análise matemática mais profunda."
   ]
  },
  {
   "cell_type": "code",
   "execution_count": 1,
   "metadata": {},
   "outputs": [
    {
     "name": "stdout",
     "output_type": "stream",
     "text": [
      "Collecting control\n",
      "  Using cached control-0.10.1-py3-none-any.whl.metadata (7.6 kB)\n",
      "Requirement already satisfied: numpy>=1.23 in c:\\users\\gusta\\appdata\\local\\programs\\python\\python313\\lib\\site-packages (from control) (2.2.4)\n",
      "Collecting scipy>=1.8 (from control)\n",
      "  Using cached scipy-1.15.2-cp313-cp313-win_amd64.whl.metadata (60 kB)\n",
      "Collecting matplotlib>=3.6 (from control)\n",
      "  Using cached matplotlib-3.10.1-cp313-cp313-win_amd64.whl.metadata (11 kB)\n",
      "Collecting contourpy>=1.0.1 (from matplotlib>=3.6->control)\n",
      "  Using cached contourpy-1.3.1-cp313-cp313-win_amd64.whl.metadata (5.4 kB)\n",
      "Collecting cycler>=0.10 (from matplotlib>=3.6->control)\n",
      "  Using cached cycler-0.12.1-py3-none-any.whl.metadata (3.8 kB)\n",
      "Collecting fonttools>=4.22.0 (from matplotlib>=3.6->control)\n",
      "  Using cached fonttools-4.56.0-cp313-cp313-win_amd64.whl.metadata (103 kB)\n",
      "Collecting kiwisolver>=1.3.1 (from matplotlib>=3.6->control)\n",
      "  Using cached kiwisolver-1.4.8-cp313-cp313-win_amd64.whl.metadata (6.3 kB)\n",
      "Requirement already satisfied: packaging>=20.0 in c:\\users\\gusta\\appdata\\local\\programs\\python\\python313\\lib\\site-packages (from matplotlib>=3.6->control) (24.2)\n",
      "Requirement already satisfied: pillow>=8 in c:\\users\\gusta\\appdata\\local\\programs\\python\\python313\\lib\\site-packages (from matplotlib>=3.6->control) (11.1.0)\n",
      "Collecting pyparsing>=2.3.1 (from matplotlib>=3.6->control)\n",
      "  Using cached pyparsing-3.2.1-py3-none-any.whl.metadata (5.0 kB)\n",
      "Requirement already satisfied: python-dateutil>=2.7 in c:\\users\\gusta\\appdata\\local\\programs\\python\\python313\\lib\\site-packages (from matplotlib>=3.6->control) (2.9.0.post0)\n",
      "Requirement already satisfied: six>=1.5 in c:\\users\\gusta\\appdata\\local\\programs\\python\\python313\\lib\\site-packages (from python-dateutil>=2.7->matplotlib>=3.6->control) (1.17.0)\n",
      "Using cached control-0.10.1-py3-none-any.whl (549 kB)\n",
      "Using cached matplotlib-3.10.1-cp313-cp313-win_amd64.whl (8.1 MB)\n",
      "Using cached scipy-1.15.2-cp313-cp313-win_amd64.whl (41.0 MB)\n",
      "Using cached contourpy-1.3.1-cp313-cp313-win_amd64.whl (220 kB)\n",
      "Using cached cycler-0.12.1-py3-none-any.whl (8.3 kB)\n",
      "Using cached fonttools-4.56.0-cp313-cp313-win_amd64.whl (2.2 MB)\n",
      "Using cached kiwisolver-1.4.8-cp313-cp313-win_amd64.whl (71 kB)\n",
      "Using cached pyparsing-3.2.1-py3-none-any.whl (107 kB)\n",
      "Installing collected packages: scipy, pyparsing, kiwisolver, fonttools, cycler, contourpy, matplotlib, control\n",
      "Successfully installed contourpy-1.3.1 control-0.10.1 cycler-0.12.1 fonttools-4.56.0 kiwisolver-1.4.8 matplotlib-3.10.1 pyparsing-3.2.1 scipy-1.15.2\n"
     ]
    },
    {
     "name": "stderr",
     "output_type": "stream",
     "text": [
      "\n",
      "[notice] A new release of pip is available: 24.3.1 -> 25.0.1\n",
      "[notice] To update, run: python.exe -m pip install --upgrade pip\n"
     ]
    }
   ],
   "source": [
    "!pip install control"
   ]
  },
  {
   "cell_type": "markdown",
   "metadata": {},
   "source": [
    "## Definindo a função de tranferência da planta"
   ]
  },
  {
   "cell_type": "code",
   "execution_count": 6,
   "metadata": {},
   "outputs": [
    {
     "name": "stdout",
     "output_type": "stream",
     "text": [
      "<TransferFunction>: sys[3]\n",
      "Inputs (1): ['u[0]']\n",
      "Outputs (1): ['y[0]']\n",
      "\n",
      "\n",
      "0.5 s + 1\n",
      "---------\n",
      " s^2 + s\n",
      "\n"
     ]
    }
   ],
   "source": [
    "import control as ctrl\n",
    "\n",
    "G = ctrl.tf([0.5, 1], [1, 1, 0])\n",
    "\n",
    "print(G)"
   ]
  },
  {
   "cell_type": "markdown",
   "metadata": {},
   "source": [
    "## Definindo a função de tranferência da realimentação (unitária)"
   ]
  },
  {
   "cell_type": "code",
   "execution_count": 7,
   "metadata": {},
   "outputs": [
    {
     "name": "stdout",
     "output_type": "stream",
     "text": [
      "<TransferFunction>: sys[4]\n",
      "Inputs (1): ['u[0]']\n",
      "Outputs (1): ['y[0]']\n",
      "\n",
      "\n",
      "1\n",
      "-\n",
      "1\n",
      "\n"
     ]
    }
   ],
   "source": [
    "H = ctrl.tf([1], [1])\n",
    "\n",
    "print(H)"
   ]
  },
  {
   "cell_type": "markdown",
   "metadata": {},
   "source": [
    "## Calculando a função de tranferência de malha fechada"
   ]
  },
  {
   "cell_type": "code",
   "execution_count": 8,
   "metadata": {},
   "outputs": [
    {
     "name": "stdout",
     "output_type": "stream",
     "text": [
      "<TransferFunction>: sys[5]\n",
      "Inputs (1): ['u[0]']\n",
      "Outputs (1): ['y[0]']\n",
      "\n",
      "\n",
      "   0.5 s + 1\n",
      "---------------\n",
      "s^2 + 1.5 s + 1\n",
      "\n"
     ]
    }
   ],
   "source": [
    "FTMF = ctrl.feedback(G, H, -1)\n",
    "\n",
    "print(FTMF)"
   ]
  },
  {
   "cell_type": "markdown",
   "metadata": {},
   "source": [
    "## Encontrando os zeros e polos da função de tranferência de malha fechada"
   ]
  },
  {
   "cell_type": "code",
   "execution_count": 9,
   "metadata": {},
   "outputs": [
    {
     "name": "stdout",
     "output_type": "stream",
     "text": [
      "[-2.+0.j] [-0.75+0.66143783j -0.75-0.66143783j]\n"
     ]
    }
   ],
   "source": [
    "zeros_FTMF = ctrl.zeros(FTMF)\n",
    "polos_FTMF = ctrl.poles(FTMF)\n",
    "\n",
    "print(zeros_FTMF, polos_FTMF)"
   ]
  },
  {
   "cell_type": "markdown",
   "metadata": {},
   "source": [
    "Podemos ainda verificar se esses polos e zeros estão no semi-plano esquerdo do plano S:"
   ]
  },
  {
   "cell_type": "code",
   "execution_count": 11,
   "metadata": {},
   "outputs": [
    {
     "name": "stdout",
     "output_type": "stream",
     "text": [
      "O sistema é de fase mínima\n"
     ]
    }
   ],
   "source": [
    "fase_minima = True\n",
    "for zero in zeros_FTMF:\n",
    "    if zero.real > 0:\n",
    "        fase_minima = False\n",
    "        break\n",
    "for polo in polos_FTMF:\n",
    "    if polo.real > 0:\n",
    "        fase_minima = False\n",
    "        break\n",
    "\n",
    "if fase_minima:\n",
    "    print(\"O sistema é de fase mínima\")\n",
    "else:\n",
    "    print(\"O sistema não é de fase mínima\")"
   ]
  },
  {
   "cell_type": "markdown",
   "metadata": {},
   "source": [
    "Vemos que esse sistema é de fase mínima, pois todos os zeros e polos estão localizados no semi-plano esquerdo do plano S.\n",
    "\n",
    "# Sistemas de fase não mínima\n",
    "\n",
    "Nesse caso, teremos um ou mais zeros ou polos localizados no semi-plano direito do plano S. Ter um zero no semi-plano direito afeta o estado de \"estabilização\" do sistema ao se inserir uma entrada (chamado de estado transitório). Além disso, ter um polo no semi-plano direito afeta a estabilidade do sistema, o que pode ser um grande problema.\n",
    "\n",
    "**Exercício:** Execute o código python para o mesmo sistema, porém com a função de transferência da planta $G(s) = \\frac{1-0.5s}{s(s+1)}$. Verifique se este sistema é de fase mínima ou não."
   ]
  }
 ],
 "metadata": {
  "kernelspec": {
   "display_name": "Python 3",
   "language": "python",
   "name": "python3"
  },
  "language_info": {
   "codemirror_mode": {
    "name": "ipython",
    "version": 3
   },
   "file_extension": ".py",
   "mimetype": "text/x-python",
   "name": "python",
   "nbconvert_exporter": "python",
   "pygments_lexer": "ipython3",
   "version": "3.13.2"
  }
 },
 "nbformat": 4,
 "nbformat_minor": 2
}
