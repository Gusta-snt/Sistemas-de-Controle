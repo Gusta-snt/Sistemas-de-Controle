{
 "cells": [
  {
   "cell_type": "markdown",
   "id": "4ab48b19-e93d-4203-990a-4d1e09167614",
   "metadata": {},
   "source": [
    "# Ordem e Tipo dos sistemas de controle\n",
    "\n",
    "Em um sistema de controle, é muito importante identificar a sua ordem e tipo para que possamos fazer as análises corretas dos mesmos. Para isso, o python nos ajuda a encontrar essas características de forma rápida e precisa.\n",
    "\n",
    "## Ordem\n",
    "\n",
    "A ordem de um sistema de controle pode ser encontrada pela quantidade de polos presentes na FTMF.\n",
    "\n",
    "## Tipo\n",
    "\n",
    "O tipo de um sistema de controle pode ser encontrado pela quantidade de polos da FTMA que estão presentes no plano de s.\n",
    "\n",
    "### Exemplo\n",
    "\n",
    "Esse exemplo trata de um sistema de controle com realimentação negativa unitária e uma planta $G(S) = \\frac{1000(s+8)}{(s+7)(s+9)}$"
   ]
  },
  {
   "cell_type": "code",
   "execution_count": 2,
   "id": "57202739-4ef9-4239-96c3-fce4d21b2fd5",
   "metadata": {},
   "outputs": [
    {
     "name": "stdout",
     "output_type": "stream",
     "text": [
      "Requirement already satisfied: control in c:\\users\\gusta\\documents\\estudos\\sistemas de controle\\venv\\lib\\site-packages (0.10.1)\n",
      "Requirement already satisfied: sympy in c:\\users\\gusta\\documents\\estudos\\sistemas de controle\\venv\\lib\\site-packages (1.13.3)\n",
      "Requirement already satisfied: numpy>=1.23 in c:\\users\\gusta\\documents\\estudos\\sistemas de controle\\venv\\lib\\site-packages (from control) (2.2.4)\n",
      "Requirement already satisfied: scipy>=1.8 in c:\\users\\gusta\\documents\\estudos\\sistemas de controle\\venv\\lib\\site-packages (from control) (1.15.2)\n",
      "Requirement already satisfied: matplotlib>=3.6 in c:\\users\\gusta\\documents\\estudos\\sistemas de controle\\venv\\lib\\site-packages (from control) (3.10.1)\n",
      "Requirement already satisfied: mpmath<1.4,>=1.1.0 in c:\\users\\gusta\\documents\\estudos\\sistemas de controle\\venv\\lib\\site-packages (from sympy) (1.3.0)\n",
      "Requirement already satisfied: contourpy>=1.0.1 in c:\\users\\gusta\\documents\\estudos\\sistemas de controle\\venv\\lib\\site-packages (from matplotlib>=3.6->control) (1.3.1)\n",
      "Requirement already satisfied: cycler>=0.10 in c:\\users\\gusta\\documents\\estudos\\sistemas de controle\\venv\\lib\\site-packages (from matplotlib>=3.6->control) (0.12.1)\n",
      "Requirement already satisfied: fonttools>=4.22.0 in c:\\users\\gusta\\documents\\estudos\\sistemas de controle\\venv\\lib\\site-packages (from matplotlib>=3.6->control) (4.56.0)\n",
      "Requirement already satisfied: kiwisolver>=1.3.1 in c:\\users\\gusta\\documents\\estudos\\sistemas de controle\\venv\\lib\\site-packages (from matplotlib>=3.6->control) (1.4.8)\n",
      "Requirement already satisfied: packaging>=20.0 in c:\\users\\gusta\\documents\\estudos\\sistemas de controle\\venv\\lib\\site-packages (from matplotlib>=3.6->control) (24.2)\n",
      "Requirement already satisfied: pillow>=8 in c:\\users\\gusta\\documents\\estudos\\sistemas de controle\\venv\\lib\\site-packages (from matplotlib>=3.6->control) (11.1.0)\n",
      "Requirement already satisfied: pyparsing>=2.3.1 in c:\\users\\gusta\\documents\\estudos\\sistemas de controle\\venv\\lib\\site-packages (from matplotlib>=3.6->control) (3.2.1)\n",
      "Requirement already satisfied: python-dateutil>=2.7 in c:\\users\\gusta\\documents\\estudos\\sistemas de controle\\venv\\lib\\site-packages (from matplotlib>=3.6->control) (2.9.0.post0)\n",
      "Requirement already satisfied: six>=1.5 in c:\\users\\gusta\\documents\\estudos\\sistemas de controle\\venv\\lib\\site-packages (from python-dateutil>=2.7->matplotlib>=3.6->control) (1.17.0)\n"
     ]
    }
   ],
   "source": [
    "!pip install control sympy"
   ]
  },
  {
   "cell_type": "code",
   "execution_count": 3,
   "id": "cbf29339-4db0-41c3-89f3-235453f40b75",
   "metadata": {},
   "outputs": [
    {
     "name": "stdout",
     "output_type": "stream",
     "text": [
      "<TransferFunction>: sys[0]\n",
      "Inputs (1): ['u[0]']\n",
      "Outputs (1): ['y[0]']\n",
      "\n",
      "\n",
      " 1000 s + 8000\n",
      "---------------\n",
      "s^2 + 16 s + 63\n",
      "\n"
     ]
    }
   ],
   "source": [
    "import control as ctrl\n",
    "import sympy as sp\n",
    "\n",
    "G = ctrl.tf([1000, 8000], [1, 16, 63])\n",
    "\n",
    "print(G)"
   ]
  },
  {
   "cell_type": "code",
   "execution_count": 4,
   "id": "e5be2de8-b5d8-485b-b7f0-c665f5bbf248",
   "metadata": {},
   "outputs": [
    {
     "name": "stdout",
     "output_type": "stream",
     "text": [
      "<TransferFunction>: sys[1]\n",
      "Inputs (1): ['u[0]']\n",
      "Outputs (1): ['y[0]']\n",
      "\n",
      "\n",
      "1\n",
      "-\n",
      "1\n",
      "\n"
     ]
    }
   ],
   "source": [
    "H = ctrl.tf([1], [1]) # Realimentação Negativa\n",
    "\n",
    "print(H)"
   ]
  },
  {
   "cell_type": "code",
   "execution_count": 5,
   "id": "8512b02e-7f5b-4644-9b8b-9095b4ba7808",
   "metadata": {},
   "outputs": [
    {
     "name": "stdout",
     "output_type": "stream",
     "text": [
      "<TransferFunction>: sys[2]\n",
      "Inputs (1): ['u[0]']\n",
      "Outputs (1): ['y[0]']\n",
      "\n",
      "\n",
      "   1000 s + 8000\n",
      "-------------------\n",
      "s^2 + 1016 s + 8063\n",
      "\n"
     ]
    }
   ],
   "source": [
    "FTMF = ctrl.feedback(G, H, -1)\n",
    "\n",
    "print(FTMF)"
   ]
  },
  {
   "cell_type": "code",
   "execution_count": 6,
   "id": "b3a14267-116e-476f-a175-ac0be7e6e14f",
   "metadata": {},
   "outputs": [
    {
     "name": "stdout",
     "output_type": "stream",
     "text": [
      "<TransferFunction>: sys[0]\n",
      "Inputs (1): ['u[0]']\n",
      "Outputs (1): ['y[0]']\n",
      "\n",
      "\n",
      " 1000 s + 8000\n",
      "---------------\n",
      "s^2 + 16 s + 63\n",
      "\n"
     ]
    }
   ],
   "source": [
    "FTMA = G # Neste sistema, a função de transferência de malha aberta é a própria G(s)\n",
    "\n",
    "print(FTMA)"
   ]
  },
  {
   "cell_type": "code",
   "execution_count": 7,
   "id": "df8bbe79-2d48-40da-818e-eabbc168387a",
   "metadata": {},
   "outputs": [
    {
     "name": "stdout",
     "output_type": "stream",
     "text": [
      "A quantidade de polos da função de transferência de malha fechada é: 2 = Ordem do sistema.\n"
     ]
    }
   ],
   "source": [
    "# Calculando a ordem do sistema\n",
    "\n",
    "polos_FTMF = ctrl.poles(FTMF)\n",
    "\n",
    "print(\"A quantidade de polos da função de transferência de malha fechada é:\",len(polos_FTMF), \"= Ordem do sistema.\")"
   ]
  },
  {
   "cell_type": "code",
   "execution_count": 8,
   "id": "37bf5644-fb8c-4f89-8cf9-cfa00d40d081",
   "metadata": {},
   "outputs": [
    {
     "name": "stdout",
     "output_type": "stream",
     "text": [
      "O tipo do sistema é: 0\n"
     ]
    }
   ],
   "source": [
    "# Calculando o tipo do sistema\n",
    "\n",
    "polos_FTMA = ctrl.poles(FTMA)\n",
    "tipo = 0\n",
    "\n",
    "# Verifica quantos polos da FTMA estão no plano de s\n",
    "for polo in polos_FTMA:\n",
    "    if polo == 0:\n",
    "        tipo = tipo + 1\n",
    "\n",
    "print(\"O tipo do sistema é:\", tipo)"
   ]
  }
 ],
 "metadata": {
  "kernelspec": {
   "display_name": "venv",
   "language": "python",
   "name": "python3"
  },
  "language_info": {
   "codemirror_mode": {
    "name": "ipython",
    "version": 3
   },
   "file_extension": ".py",
   "mimetype": "text/x-python",
   "name": "python",
   "nbconvert_exporter": "python",
   "pygments_lexer": "ipython3",
   "version": "3.13.2"
  }
 },
 "nbformat": 4,
 "nbformat_minor": 5
}
