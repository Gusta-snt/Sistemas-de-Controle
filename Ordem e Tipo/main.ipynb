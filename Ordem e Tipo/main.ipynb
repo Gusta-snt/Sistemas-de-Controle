{
 "cells": [
  {
   "cell_type": "markdown",
   "id": "4ab48b19-e93d-4203-990a-4d1e09167614",
   "metadata": {},
   "source": [
    "# Ordem e Tipo dos sistemas de controle\n",
    "\n",
    "Em um sistema de controle, é muito importante identificar a sua ordem e tipo para que possamos fazer as análises corretas dos mesmos. Para isso, o python nos ajuda a encontrar essas características de forma rápida e precisa.\n",
    "\n",
    "## Ordem\n",
    "\n",
    "A ordem de um sistema de controle pode ser encontrada pela quantidade de polos presentes na FTMF.\n",
    "\n",
    "## Tipo\n",
    "\n",
    "O tipo de um sistema de controle pode ser encontrado pela quantidade de polos da FTMA que estão presentes no plano de s.\n",
    "\n",
    "\n",
    "**Exemplo:** Esse exemplo trata de um sistema de controle com realimentação negativa unitária e uma planta $G(S) = \\frac{1000(s+8)}{(s+7)(s+9)}$.\n",
    "<br><br>![image](https://arquivos.respondeai.com.br/seo-mirror/exercise/2023/7438c60d-d621-4c63-8d31-1b3356aeb73f.webp)\n",
    "\n",
    "Primeiro, vamos instalar a biblioteca control que vai nos ajudar a realizar a análise sem que seja necessário uma análise matemática mais profunda."
   ]
  },
  {
   "cell_type": "code",
   "execution_count": null,
   "id": "57202739-4ef9-4239-96c3-fce4d21b2fd5",
   "metadata": {},
   "outputs": [],
   "source": [
    "!pip install control"
   ]
  },
  {
   "cell_type": "markdown",
   "id": "85267fe0",
   "metadata": {},
   "source": [
    "## Definindo a função de transferência da planta"
   ]
  },
  {
   "cell_type": "code",
   "execution_count": 3,
   "id": "cbf29339-4db0-41c3-89f3-235453f40b75",
   "metadata": {},
   "outputs": [
    {
     "name": "stdout",
     "output_type": "stream",
     "text": [
      "<TransferFunction>: sys[0]\n",
      "Inputs (1): ['u[0]']\n",
      "Outputs (1): ['y[0]']\n",
      "\n",
      "\n",
      " 1000 s + 8000\n",
      "---------------\n",
      "s^2 + 16 s + 63\n",
      "\n"
     ]
    }
   ],
   "source": [
    "import control as ctrl\n",
    "import sympy as sp\n",
    "\n",
    "G = ctrl.tf([1000, 8000], [1, 16, 63])\n",
    "\n",
    "print(G)"
   ]
  },
  {
   "cell_type": "markdown",
   "id": "6ddc697f",
   "metadata": {},
   "source": [
    "## Definindo a função de tranferência da realimentação (unitária)"
   ]
  },
  {
   "cell_type": "code",
   "execution_count": null,
   "id": "e5be2de8-b5d8-485b-b7f0-c665f5bbf248",
   "metadata": {},
   "outputs": [
    {
     "name": "stdout",
     "output_type": "stream",
     "text": [
      "<TransferFunction>: sys[1]\n",
      "Inputs (1): ['u[0]']\n",
      "Outputs (1): ['y[0]']\n",
      "\n",
      "\n",
      "1\n",
      "-\n",
      "1\n",
      "\n"
     ]
    }
   ],
   "source": [
    "H = ctrl.tf([1], [1]) # Realimentação unitária\n",
    "\n",
    "print(H)"
   ]
  },
  {
   "cell_type": "markdown",
   "id": "bdae3b6f",
   "metadata": {},
   "source": [
    "## Calculando a função de tranferência de malha fechada"
   ]
  },
  {
   "cell_type": "code",
   "execution_count": null,
   "id": "8512b02e-7f5b-4644-9b8b-9095b4ba7808",
   "metadata": {},
   "outputs": [
    {
     "name": "stdout",
     "output_type": "stream",
     "text": [
      "<TransferFunction>: sys[2]\n",
      "Inputs (1): ['u[0]']\n",
      "Outputs (1): ['y[0]']\n",
      "\n",
      "\n",
      "   1000 s + 8000\n",
      "-------------------\n",
      "s^2 + 1016 s + 8063\n",
      "\n"
     ]
    }
   ],
   "source": [
    "FTMF = ctrl.feedback(G, H, -1)\n",
    "\n",
    "print(FTMF)"
   ]
  },
  {
   "cell_type": "markdown",
   "id": "39642f59",
   "metadata": {},
   "source": [
    "## Calculando a função de tranferência de malha aberta"
   ]
  },
  {
   "cell_type": "code",
   "execution_count": null,
   "id": "b3a14267-116e-476f-a175-ac0be7e6e14f",
   "metadata": {},
   "outputs": [
    {
     "name": "stdout",
     "output_type": "stream",
     "text": [
      "<TransferFunction>: sys[0]\n",
      "Inputs (1): ['u[0]']\n",
      "Outputs (1): ['y[0]']\n",
      "\n",
      "\n",
      " 1000 s + 8000\n",
      "---------------\n",
      "s^2 + 16 s + 63\n",
      "\n"
     ]
    }
   ],
   "source": [
    "FTMA = G * 1 # Neste sistema, a função de transferência de malha aberta é a própria G(s)\n",
    "\n",
    "print(FTMA)"
   ]
  },
  {
   "cell_type": "markdown",
   "id": "05580e1c",
   "metadata": {},
   "source": [
    "## Encontrando a ordem do sistema"
   ]
  },
  {
   "cell_type": "code",
   "execution_count": null,
   "id": "df8bbe79-2d48-40da-818e-eabbc168387a",
   "metadata": {},
   "outputs": [
    {
     "name": "stdout",
     "output_type": "stream",
     "text": [
      "A quantidade de polos da função de transferência de malha fechada é: 2 = Ordem do sistema.\n"
     ]
    }
   ],
   "source": [
    "polos_FTMF = ctrl.poles(FTMF)\n",
    "\n",
    "print(\"A quantidade de polos da função de transferência de malha fechada é:\",len(polos_FTMF), \"= Ordem do sistema.\")"
   ]
  },
  {
   "cell_type": "markdown",
   "id": "194ea109",
   "metadata": {},
   "source": [
    "## Encontrando o tipo do sistema"
   ]
  },
  {
   "cell_type": "code",
   "execution_count": null,
   "id": "37bf5644-fb8c-4f89-8cf9-cfa00d40d081",
   "metadata": {},
   "outputs": [
    {
     "name": "stdout",
     "output_type": "stream",
     "text": [
      "O tipo do sistema é: 0\n"
     ]
    }
   ],
   "source": [
    "polos_FTMA = ctrl.poles(FTMA)\n",
    "tipo = 0\n",
    "\n",
    "# Verifica quantos polos da FTMA estão na origem de s\n",
    "for polo in polos_FTMA:\n",
    "    if polo == 0:\n",
    "        tipo = tipo + 1\n",
    "\n",
    "print(\"O tipo do sistema é:\", tipo)"
   ]
  },
  {
   "cell_type": "markdown",
   "id": "034cac1a",
   "metadata": {},
   "source": [
    "Dessa forma, verificamos que este sistema é do tipo 0 e de ordem 2.\n",
    "\n",
    "**Exercício:** Use o python para encontrar a ordem e o tipo do seguinte sistema de controle, no qual a função de tranferência $G(s) = \\frac{1000(s+8)}{s^2(s+7)(s+9)}$.\n",
    "<br><br>![image](https://arquivos.respondeai.com.br/seo-mirror/exercise/2023/7438c60d-d621-4c63-8d31-1b3356aeb73f.webp)"
   ]
  }
 ],
 "metadata": {
  "kernelspec": {
   "display_name": "Python 3",
   "language": "python",
   "name": "python3"
  },
  "language_info": {
   "codemirror_mode": {
    "name": "ipython",
    "version": 3
   },
   "file_extension": ".py",
   "mimetype": "text/x-python",
   "name": "python",
   "nbconvert_exporter": "python",
   "pygments_lexer": "ipython3",
   "version": "3.13.2"
  }
 },
 "nbformat": 4,
 "nbformat_minor": 5
}
